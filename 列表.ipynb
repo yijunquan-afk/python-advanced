{
 "cells": [
  {
   "cell_type": "markdown",
   "metadata": {},
   "source": [
    "# 列表操作"
   ]
  },
  {
   "cell_type": "markdown",
   "metadata": {},
   "source": [
    "Python 中的列表底层是一个可以动态扩容的数组，列表元素在计算机内存中是连续存储的，所以可以实现随机访问（通过一个有效的索引获取对应的元素且操作时间与列表元素个数无关）。"
   ]
  },
  {
   "cell_type": "code",
   "execution_count": 4,
   "metadata": {},
   "outputs": [
    {
     "name": "stdout",
     "output_type": "stream",
     "text": [
      "The number of 1: 1002\n",
      "The number of 2: 974\n",
      "The number of 3: 996\n",
      "The number of 4: 982\n",
      "The number of 5: 974\n",
      "The number of 6: 1072\n"
     ]
    }
   ],
   "source": [
    "#!/usr/bin/env python\n",
    "# -*- encoding: utf-8 -*-\n",
    "'''\n",
    "@File       :   列表.ipynb\n",
    "@Time       :   2025/02/06 11:14:37\n",
    "@Author     :   Yi Junquan \n",
    "@Version    :   1.0\n",
    "@Contact    :   2696974822@qq.com\n",
    "@Software   :   VsCode\n",
    "'''\n",
    "import random\n",
    "# 将一颗色子掷6000次，统计每种点数出现的次数\n",
    "count = [0] * 6\n",
    "for _ in range(6000):\n",
    "    number = random.randint(1,6)\n",
    "    count[number - 1] = count[number - 1] + 1\n",
    "for i in range(6):\n",
    "    print(f\"The number of {i+1}: {count[i]}\")"
   ]
  },
  {
   "cell_type": "markdown",
   "metadata": {},
   "source": [
    "## 添加和删除元素"
   ]
  },
  {
   "cell_type": "code",
   "execution_count": 5,
   "metadata": {},
   "outputs": [
    {
     "data": {
      "text/plain": [
       "['a', 'b', 'c', 'd']"
      ]
     },
     "execution_count": 5,
     "metadata": {},
     "output_type": "execute_result"
    }
   ],
   "source": [
    "list_test = [\"a\", \"b\", \"c\"]\n",
    "list_test.append(\"d\") # 加到末尾\n",
    "list_test"
   ]
  },
  {
   "cell_type": "code",
   "execution_count": 6,
   "metadata": {},
   "outputs": [
    {
     "data": {
      "text/plain": [
       "['z', 'a', 'b', 'c', 'd']"
      ]
     },
     "execution_count": 6,
     "metadata": {},
     "output_type": "execute_result"
    }
   ],
   "source": [
    "list_test.insert(0, \"z\") # 往位置0插入z\n",
    "list_test"
   ]
  },
  {
   "cell_type": "code",
   "execution_count": 7,
   "metadata": {},
   "outputs": [
    {
     "data": {
      "text/plain": [
       "['a', 'b', 'c', 'd']"
      ]
     },
     "execution_count": 7,
     "metadata": {},
     "output_type": "execute_result"
    }
   ],
   "source": [
    "if 'z' in list_test:\n",
    "    list_test.remove('z')\n",
    "list_test"
   ]
  },
  {
   "cell_type": "code",
   "execution_count": 8,
   "metadata": {},
   "outputs": [
    {
     "data": {
      "text/plain": [
       "'d'"
      ]
     },
     "execution_count": 8,
     "metadata": {},
     "output_type": "execute_result"
    }
   ],
   "source": [
    "list_test.pop()"
   ]
  },
  {
   "cell_type": "code",
   "execution_count": 9,
   "metadata": {},
   "outputs": [
    {
     "data": {
      "text/plain": [
       "['b', 'c']"
      ]
     },
     "execution_count": 9,
     "metadata": {},
     "output_type": "execute_result"
    }
   ],
   "source": [
    "list_test.pop(0) # 也可以加上索引\n",
    "list_test"
   ]
  },
  {
   "cell_type": "code",
   "execution_count": 10,
   "metadata": {},
   "outputs": [
    {
     "data": {
      "text/plain": [
       "[]"
      ]
     },
     "execution_count": 10,
     "metadata": {},
     "output_type": "execute_result"
    }
   ],
   "source": [
    "list_test.clear() # 清空\n",
    "list_test"
   ]
  },
  {
   "cell_type": "code",
   "execution_count": 11,
   "metadata": {},
   "outputs": [
    {
     "data": {
      "text/plain": [
       "['a']"
      ]
     },
     "execution_count": 11,
     "metadata": {},
     "output_type": "execute_result"
    }
   ],
   "source": [
    "list_test.append('a')\n",
    "list_test.append('a')\n",
    "list_test.remove('a') # 只删掉一个'a'\n",
    "list_test"
   ]
  },
  {
   "cell_type": "markdown",
   "metadata": {},
   "source": [
    "## 元素位置和频次"
   ]
  },
  {
   "cell_type": "code",
   "execution_count": 12,
   "metadata": {},
   "outputs": [
    {
     "name": "stdout",
     "output_type": "stream",
     "text": [
      "0\n",
      "5\n",
      "2\n",
      "1\n",
      "0\n"
     ]
    },
    {
     "ename": "ValueError",
     "evalue": "'Java' is not in list",
     "output_type": "error",
     "traceback": [
      "\u001b[0;31m---------------------------------------------------------------------------\u001b[0m",
      "\u001b[0;31mValueError\u001b[0m                                Traceback (most recent call last)",
      "\u001b[1;32m/Users/yijunquan/Desktop/工作/python-advanced/列表.ipynb 单元格 12\u001b[0m line \u001b[0;36m9\n\u001b[1;32m      <a href='vscode-notebook-cell:/Users/yijunquan/Desktop/%E5%B7%A5%E4%BD%9C/python-advanced/%E5%88%97%E8%A1%A8.ipynb#X15sZmlsZQ%3D%3D?line=6'>7</a>\u001b[0m \u001b[39mprint\u001b[39m(items\u001b[39m.\u001b[39mcount(\u001b[39m'\u001b[39m\u001b[39mSwfit\u001b[39m\u001b[39m'\u001b[39m))      \u001b[39m# 0\u001b[39;00m\n\u001b[1;32m      <a href='vscode-notebook-cell:/Users/yijunquan/Desktop/%E5%B7%A5%E4%BD%9C/python-advanced/%E5%88%97%E8%A1%A8.ipynb#X15sZmlsZQ%3D%3D?line=7'>8</a>\u001b[0m \u001b[39m# 从索引位置3开始查找'Java'\u001b[39;00m\n\u001b[0;32m----> <a href='vscode-notebook-cell:/Users/yijunquan/Desktop/%E5%B7%A5%E4%BD%9C/python-advanced/%E5%88%97%E8%A1%A8.ipynb#X15sZmlsZQ%3D%3D?line=8'>9</a>\u001b[0m \u001b[39mprint\u001b[39m(items\u001b[39m.\u001b[39;49mindex(\u001b[39m'\u001b[39;49m\u001b[39mJava\u001b[39;49m\u001b[39m'\u001b[39;49m, \u001b[39m3\u001b[39;49m))\n",
      "\u001b[0;31mValueError\u001b[0m: 'Java' is not in list"
     ]
    }
   ],
   "source": [
    "items = ['Python', 'Java', 'Java', 'C++', 'Kotlin', 'Python']\n",
    "print(items.index('Python'))     # 0\n",
    "# 从索引位置1开始查找'Python'\n",
    "print(items.index('Python', 1))  # 5\n",
    "print(items.count('Python'))     # 2\n",
    "print(items.count('Kotlin'))     # 1\n",
    "print(items.count('Swfit'))      # 0\n",
    "# 从索引位置3开始查找'Java'\n",
    "print(items.index('Java', 3))    # ValueError: 'Java' is not in list"
   ]
  },
  {
   "cell_type": "markdown",
   "metadata": {},
   "source": [
    "## 元素排序和反转"
   ]
  },
  {
   "cell_type": "code",
   "execution_count": 14,
   "metadata": {},
   "outputs": [
    {
     "data": {
      "text/plain": [
       "['C++', 'Java', 'Java', 'Kotlin', 'Python', 'Python']"
      ]
     },
     "execution_count": 14,
     "metadata": {},
     "output_type": "execute_result"
    }
   ],
   "source": [
    "items = ['Python', 'Java', 'Java', 'C++', 'Kotlin', 'Python']\n",
    "items.sort()\n",
    "items"
   ]
  },
  {
   "cell_type": "code",
   "execution_count": 15,
   "metadata": {},
   "outputs": [
    {
     "data": {
      "text/plain": [
       "['Python', 'Kotlin', 'C++', 'Java', 'Java', 'Python']"
      ]
     },
     "execution_count": 15,
     "metadata": {},
     "output_type": "execute_result"
    }
   ],
   "source": [
    "items = ['Python', 'Java', 'Java', 'C++', 'Kotlin', 'Python']\n",
    "items.reverse()\n",
    "items"
   ]
  },
  {
   "cell_type": "markdown",
   "metadata": {},
   "source": [
    "## 列表生成式"
   ]
  },
  {
   "cell_type": "markdown",
   "metadata": {},
   "source": [
    "创建一个取值范围在`1`到`99`且能被`3`或者`5`整除的数字构成的列表。"
   ]
  },
  {
   "cell_type": "code",
   "execution_count": 18,
   "metadata": {},
   "outputs": [
    {
     "name": "stdout",
     "output_type": "stream",
     "text": [
      "[3, 5, 6, 9, 10, 12, 15, 18, 20, 21, 24, 25, 27, 30, 33, 35, 36, 39, 40, 42, 45, 48, 50, 51, 54, 55, 57, 60, 63, 65, 66, 69, 70, 72, 75, 78, 80, 81, 84, 85, 87, 90, 93, 95, 96, 99]\n"
     ]
    }
   ],
   "source": [
    "items = [i for i in range(1, 100) if i % 3 == 0 or i % 5 == 0]\n",
    "print(items)"
   ]
  },
  {
   "cell_type": "markdown",
   "metadata": {},
   "source": [
    "有一个整数列表`nums1`，创建一个新的列表`nums2`，`nums2`中的元素是`nums1`中对应元素的平方。"
   ]
  },
  {
   "cell_type": "code",
   "execution_count": 19,
   "metadata": {},
   "outputs": [
    {
     "name": "stdout",
     "output_type": "stream",
     "text": [
      "[1, 4, 9, 16, 25]\n"
     ]
    }
   ],
   "source": [
    "nums1 = [1, 2, 3, 4, 5]\n",
    "nums2 = [i * i for i in nums1]\n",
    "print(nums2)"
   ]
  },
  {
   "cell_type": "markdown",
   "metadata": {},
   "source": [
    "有一个整数列表`nums1`，创建一个新的列表`nums2`，将`nums1`中大于`50`的元素放到`nums2`中。"
   ]
  },
  {
   "cell_type": "code",
   "execution_count": 20,
   "metadata": {},
   "outputs": [
    {
     "name": "stdout",
     "output_type": "stream",
     "text": [
      "[51, 89]\n"
     ]
    }
   ],
   "source": [
    "nums1 = [10, 12, 15, 41, 51, 89]\n",
    "nums2 = [i for i in nums1 if i > 50]\n",
    "print(nums2)"
   ]
  },
  {
   "cell_type": "markdown",
   "metadata": {},
   "source": [
    "使用列表生成式创建列表不仅代码简单优雅，而且性能上也优于使用`for-in`循环和`append`方法向空列表中追加元素的方式。为什么说生成式有更好的性能呢，那是因为 Python 解释器的字节码指令中有专门针对生成式的指令（`LIST_APPEND`指令）；而`for`循环是通过方法调用（`LOAD_METHOD`和`CALL_METHOD`指令）的方式为列表添加元素，方法调用本身就是一个相对比较耗时的操作。对这一点不理解也没有关系，记住“**强烈建议用生成式语法来创建列表**”这个结论就可以了。"
   ]
  },
  {
   "cell_type": "markdown",
   "metadata": {},
   "source": [
    "## 双色球"
   ]
  },
  {
   "cell_type": "code",
   "execution_count": 21,
   "metadata": {},
   "outputs": [
    {
     "name": "stdout",
     "output_type": "stream",
     "text": [
      "\u001b[031m01\u001b[0m \u001b[031m05\u001b[0m \u001b[031m16\u001b[0m \u001b[031m27\u001b[0m \u001b[031m32\u001b[0m \u001b[031m33\u001b[0m \u001b[034m04\u001b[0m\n"
     ]
    }
   ],
   "source": [
    "#!/usr/bin/env python\n",
    "# -*- encoding: utf-8 -*-\n",
    "'''\n",
    "@File       :   列表.ipynb\n",
    "@Time       :   2025/02/06 11:41:56\n",
    "@Author     :   Yi Junquan \n",
    "@Version    :   1.0\n",
    "@Contact    :   2696974822@qq.com\n",
    "@Software   :   VsCode\n",
    "'''\n",
    "\n",
    "# 双色球生成，6个随机红球+1个随机蓝球\n",
    "import random\n",
    "\n",
    "red_balls = [ i for i in range(1,34)]\n",
    "blue_balls = [i for i in range(1,17)]\n",
    "\n",
    "selected_red = random.sample(red_balls, 6) # 不放回随机抽样六个\n",
    "selected_red.sort()\n",
    "\n",
    "selected_blue = random.choice(blue_balls) # 随机一个\n",
    "for ball in selected_red:\n",
    "    print(f'\\033[031m{ball:0>2d}\\033[0m', end=' ')\n",
    "print(f'\\033[034m{selected_blue:0>2d}\\033[0m')\n"
   ]
  },
  {
   "cell_type": "markdown",
   "metadata": {},
   "source": []
  }
 ],
 "metadata": {
  "kernelspec": {
   "display_name": "dual-rca",
   "language": "python",
   "name": "python3"
  },
  "language_info": {
   "codemirror_mode": {
    "name": "ipython",
    "version": 3
   },
   "file_extension": ".py",
   "mimetype": "text/x-python",
   "name": "python",
   "nbconvert_exporter": "python",
   "pygments_lexer": "ipython3",
   "version": "3.10.13"
  }
 },
 "nbformat": 4,
 "nbformat_minor": 2
}
