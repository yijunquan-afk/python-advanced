{
 "cells": [
  {
   "cell_type": "markdown",
   "metadata": {},
   "source": [
    "# 字典\n",
    "\n",
    "## 创建和使用字典"
   ]
  },
  {
   "cell_type": "code",
   "execution_count": 1,
   "metadata": {},
   "outputs": [
    {
     "name": "stdout",
     "output_type": "stream",
     "text": [
      "{'name': '王大锤', 'age': 55, 'height': 168, 'weight': 60, 'addr': '成都市武侯区科华北路62号1栋101'}\n",
      "{'A': '1', 'B': '2', 'C': '3', 'D': '4', 'E': '5'}\n",
      "{'A': 1, 'B': 2, 'C': 3, 'D': 4, 'E': 5}\n",
      "{1: 1, 2: 8, 3: 27, 4: 64, 5: 125}\n"
     ]
    }
   ],
   "source": [
    "# dict函数(构造器)中的每一组参数就是字典中的一组键值对\n",
    "person = dict(name='王大锤', age=55, height=168, weight=60, addr='成都市武侯区科华北路62号1栋101')\n",
    "print(person)  # {'name': '王大锤', 'age': 55, 'height': 168, 'weight': 60, 'addr': '成都市武侯区科华北路62号1栋101'}\n",
    "\n",
    "# 可以通过Python内置函数zip压缩两个序列并创建字典\n",
    "items1 = dict(zip('ABCDE', '12345'))\n",
    "print(items1)  # {'A': '1', 'B': '2', 'C': '3', 'D': '4', 'E': '5'}\n",
    "items2 = dict(zip('ABCDE', range(1, 10)))\n",
    "print(items2)  # {'A': 1, 'B': 2, 'C': 3, 'D': 4, 'E': 5}\n",
    "\n",
    "# 用字典生成式语法创建字典\n",
    "items3 = {x: x ** 3 for x in range(1, 6)}\n",
    "print(items3)  # {1: 1, 2: 8, 3: 27, 4: 64, 5: 125}"
   ]
  },
  {
   "cell_type": "markdown",
   "metadata": {},
   "source": [
    "## 字典的运算"
   ]
  },
  {
   "cell_type": "markdown",
   "metadata": {},
   "source": [
    "对于字典类型来说，成员运算和索引运算肯定是很重要的，前者可以判定指定的键在不在字典中，后者可以通过键获取对应的值或者向字典中添加新的键值对。值得注意的是，字典的索引不同于列表的索引，列表中的元素因为有属于自己有序号，所以列表的索引是一个整数；字典中因为保存的是键值对，所以字典需要用键去索引对应的值。需要**特别提醒**大家注意的是，**字典中的键必须是不可变类型**，例如整数（`int`）、浮点数（`float`）、字符串（`str`）、元组（`tuple`）等类型，这一点跟集合类型对元素的要求是一样的；很显然，之前我们讲的列表（`list`）和集合（`set`）不能作为字典中的键，字典类型本身也不能再作为字典中的键，因为字典也是可变类型，但是字典可以作为字典中的值。大家可以先看看下面的代码，了解一下字典的成员运算和索引运算。"
   ]
  },
  {
   "cell_type": "code",
   "execution_count": 2,
   "metadata": {},
   "outputs": [
    {
     "name": "stdout",
     "output_type": "stream",
     "text": [
      "True\n",
      "False\n",
      "王大锤\n",
      "成都市武侯区科华北路62号1栋101\n",
      "{'name': '王大锤', 'age': 25, 'height': 178, 'weight': 60, 'addr': '成都市武侯区科华北路62号1栋101', 'tel': '13122334455', 'signature': '你的男朋友是一个盖世垃圾，他会踏着五彩祥云去迎娶你的闺蜜'}\n",
      "name:\t王大锤\n",
      "age:\t25\n",
      "height:\t178\n",
      "weight:\t60\n",
      "addr:\t成都市武侯区科华北路62号1栋101\n",
      "tel:\t13122334455\n",
      "signature:\t你的男朋友是一个盖世垃圾，他会踏着五彩祥云去迎娶你的闺蜜\n"
     ]
    }
   ],
   "source": [
    "person = {'name': '王大锤', 'age': 55, 'height': 168, 'weight': 60, 'addr': '成都市武侯区科华北路62号1栋101'}\n",
    "\n",
    "# 成员运算\n",
    "print('name' in person)  # True\n",
    "print('tel' in person)   # False\n",
    "\n",
    "# 索引运算\n",
    "print(person['name'])\n",
    "print(person['addr'])\n",
    "person['age'] = 25\n",
    "person['height'] = 178\n",
    "person['tel'] = '13122334455'\n",
    "person['signature'] = '你的男朋友是一个盖世垃圾，他会踏着五彩祥云去迎娶你的闺蜜'\n",
    "print(person)\n",
    "\n",
    "# 循环遍历\n",
    "for key in person:\n",
    "    print(f'{key}:\\t{person[key]}')"
   ]
  },
  {
   "cell_type": "markdown",
   "metadata": {},
   "source": [
    "## 字典的方法\n",
    "\n",
    "字典类型的方法基本上都跟字典的键值对操作相关，其中`get`方法可以通过键来获取对应的值。跟索引运算不同的是，`get`方法在字典中没有指定的键时不会产生异常，而是返回`None`或指定的默认值，代码如下所示。"
   ]
  },
  {
   "cell_type": "code",
   "execution_count": 3,
   "metadata": {},
   "outputs": [
    {
     "name": "stdout",
     "output_type": "stream",
     "text": [
      "王大锤\n",
      "None\n",
      "True\n"
     ]
    }
   ],
   "source": [
    "person = {'name': '王大锤', 'age': 25, 'height': 178, 'addr': '成都市武侯区科华北路62号1栋101'}\n",
    "print(person.get('name'))       # 王大锤\n",
    "print(person.get('sex'))        # None\n",
    "print(person.get('sex', True))  # True"
   ]
  },
  {
   "cell_type": "markdown",
   "metadata": {},
   "source": [
    "如果需要获取字典中所有的键，可以使用`keys`方法；如果需要获取字典中所有的值，可以使用`values`方法。字典还有一个名为`items`的方法，它会将键和值组装成二元组，通过该方法来遍历字典中的元素也是非常方便的。"
   ]
  },
  {
   "cell_type": "code",
   "execution_count": 4,
   "metadata": {},
   "outputs": [
    {
     "name": "stdout",
     "output_type": "stream",
     "text": [
      "dict_keys(['name', 'age', 'height'])\n",
      "dict_values(['王大锤', 25, 178])\n",
      "dict_items([('name', '王大锤'), ('age', 25), ('height', 178)])\n",
      "name:\t王大锤\n",
      "age:\t25\n",
      "height:\t178\n"
     ]
    }
   ],
   "source": [
    "person = {'name': '王大锤', 'age': 25, 'height': 178}\n",
    "print(person.keys())    # dict_keys(['name', 'age', 'height'])\n",
    "print(person.values())  # dict_values(['王大锤', 25, 178])\n",
    "print(person.items())   # dict_items([('name', '王大锤'), ('age', 25), ('height', 178)])\n",
    "for key, value in person.items():\n",
    "    print(f'{key}:\\t{value}')"
   ]
  },
  {
   "cell_type": "markdown",
   "metadata": {},
   "source": [
    "字典的`update`方法会用一个字典更新另一个字典中的键值对。例如，有两个字典`x`和`y`，当执行`x.update(y)`操作时，`x`跟`y`相同的键对应的值会`y`中的值被更新，而`y`中有但`x`中没有的键值对会直接添加到`x`中，代码如下所示。"
   ]
  },
  {
   "cell_type": "code",
   "execution_count": 5,
   "metadata": {},
   "outputs": [
    {
     "name": "stdout",
     "output_type": "stream",
     "text": [
      "{'name': '王大锤', 'age': 25, 'height': 178, 'addr': '成都市武侯区科华北路62号1栋101'}\n"
     ]
    }
   ],
   "source": [
    "person1 = {'name': '王大锤', 'age': 55, 'height': 178}\n",
    "person2 = {'age': 25, 'addr': '成都市武侯区科华北路62号1栋101'}\n",
    "person1.update(person2)\n",
    "print(person1)  # {'name': '王大锤', 'age': 25, 'height': 178, 'addr': '成都市武侯区科华北路62号1栋101'}"
   ]
  },
  {
   "cell_type": "markdown",
   "metadata": {},
   "source": [
    "可以通过`pop`或`popitem`方法从字典中删除元素，前者会返回键对应的值，但是如果字典中不存在指定的键，会引发`KeyError`错误；后者在删除元素时，会返回键和值组成的二元组。字典的`clear`方法会清空字典中所有的键值对，代码如下所示。"
   ]
  },
  {
   "cell_type": "code",
   "execution_count": 6,
   "metadata": {},
   "outputs": [
    {
     "name": "stdout",
     "output_type": "stream",
     "text": [
      "25\n",
      "{'name': '王大锤', 'height': 178, 'addr': '成都市武侯区科华北路62号1栋101'}\n",
      "('addr', '成都市武侯区科华北路62号1栋101')\n",
      "{'name': '王大锤', 'height': 178}\n",
      "{}\n"
     ]
    }
   ],
   "source": [
    "person = {'name': '王大锤', 'age': 25, 'height': 178, 'addr': '成都市武侯区科华北路62号1栋101'}\n",
    "print(person.pop('age'))  # 25\n",
    "print(person)             # {'name': '王大锤', 'height': 178, 'addr': '成都市武侯区科华北路62号1栋101'}\n",
    "print(person.popitem())   # ('addr', '成都市武侯区科华北路62号1栋101')\n",
    "print(person)             # {'name': '王大锤', 'height': 178}\n",
    "person.clear()\n",
    "print(person)             # {}"
   ]
  },
  {
   "cell_type": "markdown",
   "metadata": {},
   "source": [
    "跟列表一样，从字典中删除元素也可以使用`del`关键字，在删除元素的时候如果指定的键索引不到对应的值，一样会引发`KeyError`错误，具体的做法如下所示。"
   ]
  },
  {
   "cell_type": "code",
   "execution_count": 7,
   "metadata": {},
   "outputs": [
    {
     "name": "stdout",
     "output_type": "stream",
     "text": [
      "{'name': '王大锤', 'height': 178}\n"
     ]
    }
   ],
   "source": [
    "person = {'name': '王大锤', 'age': 25, 'height': 178, 'addr': '成都市武侯区科华北路62号1栋101'}\n",
    "del person['age']\n",
    "del person['addr']\n",
    "print(person)  # {'name': '王大锤', 'height': 178}"
   ]
  },
  {
   "cell_type": "markdown",
   "metadata": {},
   "source": []
  }
 ],
 "metadata": {
  "kernelspec": {
   "display_name": "base",
   "language": "python",
   "name": "python3"
  },
  "language_info": {
   "codemirror_mode": {
    "name": "ipython",
    "version": 3
   },
   "file_extension": ".py",
   "mimetype": "text/x-python",
   "name": "python",
   "nbconvert_exporter": "python",
   "pygments_lexer": "ipython3",
   "version": "3.11.5"
  }
 },
 "nbformat": 4,
 "nbformat_minor": 2
}
