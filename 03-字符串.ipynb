{
 "cells": [
  {
   "cell_type": "markdown",
   "metadata": {},
   "source": [
    "# 字符串"
   ]
  },
  {
   "cell_type": "markdown",
   "metadata": {},
   "source": [
    "## 拼接和重复"
   ]
  },
  {
   "cell_type": "code",
   "execution_count": 1,
   "metadata": {},
   "outputs": [
    {
     "name": "stdout",
     "output_type": "stream",
     "text": [
      "hello, world\n",
      "!!!\n",
      "hello, world!!!\n",
      "hello, world!!!hello, world!!!\n"
     ]
    }
   ],
   "source": [
    "s1 = 'hello' + ', ' + 'world'\n",
    "print(s1)    # hello, world\n",
    "s2 = '!' * 3\n",
    "print(s2)    # !!!\n",
    "s1 += s2\n",
    "print(s1)    # hello, world!!!\n",
    "s1 *= 2\n",
    "print(s1)    # hello, world!!!hello, world!!!"
   ]
  },
  {
   "cell_type": "markdown",
   "metadata": {},
   "source": [
    "## 比较运算"
   ]
  },
  {
   "cell_type": "markdown",
   "metadata": {},
   "source": [
    "如果不清楚两个字符对应的编码到底是多少，可以使用`ord`函数来获得，之前我们有提到过这个函数。例如`ord('A')`的值是`65`，而`ord('昊')`的值是`26122`。下面的代码展示了字符串的比较运算，请大家仔细看看。"
   ]
  },
  {
   "cell_type": "code",
   "execution_count": 2,
   "metadata": {},
   "outputs": [
    {
     "name": "stdout",
     "output_type": "stream",
     "text": [
      "False\n",
      "True\n",
      "False\n",
      "True\n",
      "True\n",
      "39558\n",
      "26122\n",
      "29579\n",
      "22823\n",
      "38180\n",
      "True\n",
      "True\n"
     ]
    }
   ],
   "source": [
    "s1 = 'a whole new world'\n",
    "s2 = 'hello world'\n",
    "print(s1 == s2)             # False\n",
    "print(s1 < s2)              # True\n",
    "print(s1 == 'hello world')  # False\n",
    "print(s2 == 'hello world')  # True\n",
    "print(s2 != 'Hello world')  # True\n",
    "s3 = '骆昊'\n",
    "print(ord('骆'))            # 39558\n",
    "print(ord('昊'))            # 26122\n",
    "s4 = '王大锤'\n",
    "print(ord('王'))            # 29579\n",
    "print(ord('大'))            # 22823\n",
    "print(ord('锤'))            # 38180\n",
    "print(s3 >= s4)             # True\n",
    "print(s3 != s4)             # True"
   ]
  },
  {
   "cell_type": "markdown",
   "metadata": {},
   "source": [
    "## 字符串的方法"
   ]
  },
  {
   "cell_type": "code",
   "execution_count": 3,
   "metadata": {},
   "outputs": [
    {
     "name": "stdout",
     "output_type": "stream",
     "text": [
      "Hello, world!\n",
      "Hello, World!\n",
      "HELLO, WORLD!\n",
      "goodbye\n",
      "hello, world!\n",
      "GOODBYE\n"
     ]
    }
   ],
   "source": [
    "s1 = 'hello, world!'\n",
    "# 字符串首字母大写\n",
    "print(s1.capitalize())  # Hello, world!\n",
    "# 字符串每个单词首字母大写\n",
    "print(s1.title())       # Hello, World!\n",
    "# 字符串变大写\n",
    "print(s1.upper())       # HELLO, WORLD!\n",
    "s2 = 'GOODBYE'\n",
    "# 字符串变小写\n",
    "print(s2.lower())       # goodbye\n",
    "# 检查s1和s2的值\n",
    "print(s1)               # hello, world\n",
    "print(s2)               # GOODBYE"
   ]
  },
  {
   "cell_type": "markdown",
   "metadata": {},
   "source": [
    "**说明**：由于字符串是不可变类型，使用字符串的方法对字符串进行操作会产生新的字符串，但是原来变量的值并没有发生变化。所以上面的代码中，当我们最后检查`s1`和`s2`两个变量的值时，`s1`和`s2` 的值并没有发生变化"
   ]
  },
  {
   "cell_type": "markdown",
   "metadata": {},
   "source": [
    "如果想在一个字符串中从前向后查找有没有另外一个字符串，可以使用字符串的`find`或`index`方法。在使用`find`和`index`方法时还可以通过方法的参数来指定查找的范围，也就是查找不必从索引为`0`的位置开始。"
   ]
  },
  {
   "cell_type": "code",
   "execution_count": 4,
   "metadata": {},
   "outputs": [
    {
     "name": "stdout",
     "output_type": "stream",
     "text": [
      "8\n",
      "-1\n",
      "-1\n",
      "8\n"
     ]
    },
    {
     "ename": "ValueError",
     "evalue": "substring not found",
     "output_type": "error",
     "traceback": [
      "\u001b[0;31m---------------------------------------------------------------------------\u001b[0m",
      "\u001b[0;31mValueError\u001b[0m                                Traceback (most recent call last)",
      "\u001b[1;32m/Users/yijunquan/Desktop/工作/python-advanced/03-字符串.ipynb 单元格 11\u001b[0m line \u001b[0;36m6\n\u001b[1;32m      <a href='vscode-notebook-cell:/Users/yijunquan/Desktop/%E5%B7%A5%E4%BD%9C/python-advanced/03-%E5%AD%97%E7%AC%A6%E4%B8%B2.ipynb#X15sZmlsZQ%3D%3D?line=3'>4</a>\u001b[0m \u001b[39mprint\u001b[39m(s\u001b[39m.\u001b[39mfind(\u001b[39m'\u001b[39m\u001b[39mof\u001b[39m\u001b[39m'\u001b[39m))      \u001b[39m# -1\u001b[39;00m\n\u001b[1;32m      <a href='vscode-notebook-cell:/Users/yijunquan/Desktop/%E5%B7%A5%E4%BD%9C/python-advanced/03-%E5%AD%97%E7%AC%A6%E4%B8%B2.ipynb#X15sZmlsZQ%3D%3D?line=4'>5</a>\u001b[0m \u001b[39mprint\u001b[39m(s\u001b[39m.\u001b[39mindex(\u001b[39m'\u001b[39m\u001b[39mor\u001b[39m\u001b[39m'\u001b[39m))     \u001b[39m# 8\u001b[39;00m\n\u001b[0;32m----> <a href='vscode-notebook-cell:/Users/yijunquan/Desktop/%E5%B7%A5%E4%BD%9C/python-advanced/03-%E5%AD%97%E7%AC%A6%E4%B8%B2.ipynb#X15sZmlsZQ%3D%3D?line=5'>6</a>\u001b[0m \u001b[39mprint\u001b[39m(s\u001b[39m.\u001b[39;49mindex(\u001b[39m'\u001b[39;49m\u001b[39mor\u001b[39;49m\u001b[39m'\u001b[39;49m, \u001b[39m9\u001b[39;49m))\n",
      "\u001b[0;31mValueError\u001b[0m: substring not found"
     ]
    }
   ],
   "source": [
    "s = 'hello, world!'\n",
    "print(s.find('or'))      # 8\n",
    "print(s.find('or', 9))   # -1\n",
    "print(s.find('of'))      # -1\n",
    "print(s.index('or'))     # 8\n",
    "print(s.index('or', 9))  # ValueError: substring not found"
   ]
  },
  {
   "cell_type": "code",
   "execution_count": 5,
   "metadata": {},
   "outputs": [
    {
     "data": {
      "text/plain": [
       "0"
      ]
     },
     "execution_count": 5,
     "metadata": {},
     "output_type": "execute_result"
    }
   ],
   "source": [
    "s.find('h')"
   ]
  },
  {
   "cell_type": "markdown",
   "metadata": {},
   "source": [
    "`find`和`index`方法还有逆向查找（从后向前查找）的版本，分别是`rfind`和`rindex`，代码如下所示。"
   ]
  },
  {
   "cell_type": "code",
   "execution_count": 6,
   "metadata": {},
   "outputs": [
    {
     "name": "stdout",
     "output_type": "stream",
     "text": [
      "4\n",
      "7\n",
      "7\n"
     ]
    }
   ],
   "source": [
    "s = 'hello world!'\n",
    "print(s.find('o'))       # 4\n",
    "print(s.rfind('o'))      # 7\n",
    "print(s.rindex('o'))     # 7\n",
    "# print(s.rindex('o', 8))  # ValueError: substring not found"
   ]
  },
  {
   "cell_type": "markdown",
   "metadata": {},
   "source": [
    "可以通过字符串的`startswith`、`endswith`来判断字符串是否以某个字符串开头和结尾；还可以用`is`开头的方法判断字符串的特征，这些方法都返回布尔值，代码如下所示。"
   ]
  },
  {
   "cell_type": "code",
   "execution_count": 7,
   "metadata": {},
   "outputs": [
    {
     "name": "stdout",
     "output_type": "stream",
     "text": [
      "False\n",
      "True\n",
      "True\n",
      "False\n",
      "False\n",
      "True\n"
     ]
    }
   ],
   "source": [
    "s1 = 'hello, world!'\n",
    "print(s1.startswith('He'))   # False\n",
    "print(s1.startswith('hel'))  # True\n",
    "print(s1.endswith('!'))      # True\n",
    "s2 = 'abc123456'\n",
    "print(s2.isdigit())  # False\n",
    "print(s2.isalpha())  # False\n",
    "print(s2.isalnum())  # True"
   ]
  },
  {
   "cell_type": "markdown",
   "metadata": {},
   "source": [
    "**说明**：上面的`isdigit`用来判断字符串是不是完全由数字构成的，`isalpha`用来判断字符串是不是完全由字母构成的，这里的字母指的是 Unicode 字符但不包含 Emoji 字符，`isalnum`用来判断字符串是不是由字母和数字构成的。"
   ]
  },
  {
   "cell_type": "markdown",
   "metadata": {},
   "source": [
    "## 格式化"
   ]
  },
  {
   "cell_type": "markdown",
   "metadata": {},
   "source": [
    "在 Python 中，字符串类型可以通过`center`、`ljust`、`rjust`方法做居中、左对齐和右对齐的处理。如果要在字符串的左侧补零，也可以使用`zfill`方法。"
   ]
  },
  {
   "cell_type": "code",
   "execution_count": 8,
   "metadata": {},
   "outputs": [
    {
     "name": "stdout",
     "output_type": "stream",
     "text": [
      "****hello, world****\n",
      "        hello, world\n",
      "hello, world~~~~~~~~\n",
      "00033\n",
      "-0033\n"
     ]
    }
   ],
   "source": [
    "s = 'hello, world'\n",
    "print(s.center(20, '*'))  # ****hello, world****\n",
    "print(s.rjust(20))        #         hello, world\n",
    "print(s.ljust(20, '~'))   # hello, world~~~~~~~~\n",
    "print('33'.zfill(5))      # 00033\n",
    "print('-33'.zfill(5))     # -0033"
   ]
  },
  {
   "cell_type": "markdown",
   "metadata": {},
   "source": [
    "字符串的`strip`方法可以帮我们获得将原字符串修剪掉左右两端指定字符之后的字符串，默认是修剪空格字符。这个方法非常有实用价值，可以用来将用户输入时不小心键入的头尾空格等去掉，`strip`方法还有`lstrip`和`rstrip`两个版本，相信从名字大家已经猜出来这两个方法是做什么用的。"
   ]
  },
  {
   "cell_type": "code",
   "execution_count": 9,
   "metadata": {},
   "outputs": [
    {
     "name": "stdout",
     "output_type": "stream",
     "text": [
      "jackfrued@126.com\n",
      "你好，世界~\n",
      "~你好，世界\n"
     ]
    }
   ],
   "source": [
    "s1 = '   jackfrued@126.com  '\n",
    "print(s1.strip())      # jackfrued@126.com\n",
    "s2 = '~你好，世界~'\n",
    "print(s2.lstrip('~'))  # 你好，世界~\n",
    "print(s2.rstrip('~'))  # ~你好，世界"
   ]
  },
  {
   "cell_type": "markdown",
   "metadata": {},
   "source": [
    "如果希望用新的内容替换字符串中指定的内容，可以使用`replace`方法，代码如下所示。`replace`方法的第一个参数是被替换的内容，第二个参数是替换后的内容，还可以通过第三个参数指定替换的次数。"
   ]
  },
  {
   "cell_type": "code",
   "execution_count": 10,
   "metadata": {},
   "outputs": [
    {
     "name": "stdout",
     "output_type": "stream",
     "text": [
      "hell@, g@@d w@rld\n",
      "hell@, good world\n"
     ]
    }
   ],
   "source": [
    "s = 'hello, good world'\n",
    "print(s.replace('o', '@'))     # hell@, g@@d w@rld\n",
    "print(s.replace('o', '@', 1))  # hell@, good world"
   ]
  },
  {
   "cell_type": "markdown",
   "metadata": {},
   "source": [
    "可以使用字符串的`split`方法将一个字符串拆分为多个字符串（放在一个列表中），也可以使用字符串的`join`方法将列表中的多个字符串连接成一个字符串，代码如下所示。\n",
    "\n",
    "需要说明的是，`split`方法默认使用空格进行拆分，我们也可以指定其他的字符来拆分字符串，而且还可以指定最大拆分次数来控制拆分的效果，代码如下所示。"
   ]
  },
  {
   "cell_type": "code",
   "execution_count": 12,
   "metadata": {},
   "outputs": [
    {
     "name": "stdout",
     "output_type": "stream",
     "text": [
      "['I', 'love', 'you']\n",
      "I~love~you\n",
      "['I', 'love', 'you', 'so', 'much']\n",
      "['I', 'love', 'you#so#much']\n"
     ]
    }
   ],
   "source": [
    "s = 'I love you'\n",
    "words = s.split()\n",
    "print(words)            # ['I', 'love', 'you']\n",
    "print('~'.join(words))  # I~love~you\n",
    "s = 'I#love#you#so#much'\n",
    "words = s.split('#')\n",
    "print(words)  # ['I', 'love', 'you', 'so', 'much']\n",
    "words = s.split('#', 2)\n",
    "print(words)  # ['I', 'love', 'you#so#much']"
   ]
  },
  {
   "cell_type": "markdown",
   "metadata": {},
   "source": [
    "Python 中除了字符串`str`类型外，还有一种表示二进制数据的字节串类型（`bytes`）。所谓字节串，就是**由零个或多个字节组成的有限序列**。通过字符串的`encode`方法，我们可以按照某种编码方式将字符串编码为字节串，我们也可以使用字节串的`decode`方法，将字节串解码为字符串，代码如下所示。"
   ]
  },
  {
   "cell_type": "code",
   "execution_count": 13,
   "metadata": {},
   "outputs": [
    {
     "name": "stdout",
     "output_type": "stream",
     "text": [
      "b'\\xe6\\x98\\x93\\xe4\\xbf\\x8a'\n",
      "b'\\xd2\\xd7\\xbf\\xa1'\n",
      "易俊\n",
      "易俊\n"
     ]
    }
   ],
   "source": [
    "a = '易俊'\n",
    "b = a.encode('utf-8')\n",
    "c = a.encode('gbk')\n",
    "print(b)                 \n",
    "print(c)                  \n",
    "print(b.decode('utf-8'))  \n",
    "print(c.decode('gbk'))    "
   ]
  },
  {
   "cell_type": "markdown",
   "metadata": {},
   "source": []
  }
 ],
 "metadata": {
  "kernelspec": {
   "display_name": "dual-rca",
   "language": "python",
   "name": "python3"
  },
  "language_info": {
   "codemirror_mode": {
    "name": "ipython",
    "version": 3
   },
   "file_extension": ".py",
   "mimetype": "text/x-python",
   "name": "python",
   "nbconvert_exporter": "python",
   "pygments_lexer": "ipython3",
   "version": "3.10.13"
  }
 },
 "nbformat": 4,
 "nbformat_minor": 2
}
