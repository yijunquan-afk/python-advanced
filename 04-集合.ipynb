{
 "cells": [
  {
   "cell_type": "markdown",
   "metadata": {},
   "source": [
    "# 集合"
   ]
  },
  {
   "cell_type": "markdown",
   "metadata": {},
   "source": [
    "**集合的成员运算在性能上要优于列表的成员运算**，这是集合的底层存储特性决定的，此处我们暂时不做讨论，大家记住这个结论即可。\n",
    "\n",
    "> **说明**：集合底层使用了哈希存储（散列存储），对哈希存储感兴趣的读者可以看看维基百科上“散列表”这个词条。"
   ]
  },
  {
   "cell_type": "markdown",
   "metadata": {},
   "source": [
    "## 创建集合\n",
    "\n",
    "在 Python 中，创建集合可以使用`{}`字面量语法，`{}`中需要至少有一个元素，因为没有元素的`{}`并不是空集合而是一个空字典，字典类型我们会在下一节课中为大家介绍。当然，也可以使用 Python 内置函数`set`来创建一个集合，准确的说`set`并不是一个函数，而是创建集合对象的构造器，这个知识点会在后面讲解面向对象编程的地方为大家介绍。我们可以使用`set`函数创建一个空集合，也可以用它将其他序列转换成集合，例如：`set('hello')`会得到一个包含了`4`个字符的集合（重复的字符`l`只会在集合中出现一次）。除了这两种方式，还可以使用生成式语法来创建集合，就像我们之前用生成式语法创建列表那样。"
   ]
  },
  {
   "cell_type": "code",
   "execution_count": 1,
   "metadata": {},
   "outputs": [
    {
     "name": "stdout",
     "output_type": "stream",
     "text": [
      "{1, 2, 3}\n",
      "{'grape', 'banana', 'apple', 'pitaya'}\n",
      "{'l', 'e', 'h', 'o'}\n",
      "{1, 2, 3}\n",
      "{3, 6, 7, 9, 12, 14, 15, 18}\n"
     ]
    }
   ],
   "source": [
    "set1 = {1, 2, 3, 3, 3, 2}\n",
    "print(set1)\n",
    "\n",
    "set2 = {'banana', 'pitaya', 'apple', 'apple', 'banana', 'grape'}\n",
    "print(set2)\n",
    "\n",
    "set3 = set('hello')\n",
    "print(set3)\n",
    "\n",
    "set4 = set([1, 2, 2, 3, 3, 3, 2, 1])\n",
    "print(set4)\n",
    "\n",
    "set5 = {num for num in range(1, 20) if num % 3 == 0 or num % 7 == 0}\n",
    "print(set5)"
   ]
  },
  {
   "cell_type": "markdown",
   "metadata": {},
   "source": [
    "需要提醒大家，集合中的元素必须是`hashable`类型，使用哈希存储的容器都会对元素提出这一要求。所谓`hashable`类型指的是能够计算出哈希码的数据类型，通常不可变类型都是`hashable`类型，如整数（`int`）、浮点小数（`float`）、布尔值（`bool`）、字符串（`str`）、元组（`tuple`）等。可变类型都不是`hashable`类型，因为可变类型无法计算出确定的哈希码，所以它们不能放到集合中。例如：我们不能将列表作为集合中的元素；同理，由于集合本身也是可变类型，所以集合也不能作为集合中的元素。我们可以创建出嵌套的列表，但是我们不能创建出嵌套的集合，这一点在使用集合的时候一定要引起注意。"
   ]
  },
  {
   "cell_type": "markdown",
   "metadata": {},
   "source": [
    "## 元素的遍历"
   ]
  },
  {
   "cell_type": "markdown",
   "metadata": {},
   "source": [
    "我们可以通过`len`函数来获得集合中有多少个元素，但是我们不能通过索引运算来遍历集合中的元素，因为集合元素并没有特定的顺序。当然，要实现对集合元素的遍历，我们仍然可以使用`for-in`循环，代码如下所示。"
   ]
  },
  {
   "cell_type": "code",
   "execution_count": 2,
   "metadata": {},
   "outputs": [
    {
     "name": "stdout",
     "output_type": "stream",
     "text": [
      "Swift\n",
      "C++\n",
      "Python\n",
      "Kotlin\n",
      "Java\n"
     ]
    }
   ],
   "source": [
    "set1 = {'Python', 'C++', 'Java', 'Kotlin', 'Swift'}\n",
    "for elem in set1:\n",
    "    print(elem)"
   ]
  },
  {
   "cell_type": "markdown",
   "metadata": {},
   "source": [
    "## 集合的运算"
   ]
  },
  {
   "cell_type": "markdown",
   "metadata": {},
   "source": [
    "### 成员运算"
   ]
  },
  {
   "cell_type": "markdown",
   "metadata": {},
   "source": [
    "可以通过成员运算`in`和`not in `检查元素是否在集合中，代码如下所示。"
   ]
  },
  {
   "cell_type": "code",
   "execution_count": 3,
   "metadata": {},
   "outputs": [
    {
     "name": "stdout",
     "output_type": "stream",
     "text": [
      "False\n",
      "True\n",
      "False\n",
      "True\n"
     ]
    }
   ],
   "source": [
    "set1 = {11, 12, 13, 14, 15}\n",
    "print(10 in set1)      # False \n",
    "print(15 in set1)      # True\n",
    "set2 = {'Python', 'Java', 'C++', 'Swift'}\n",
    "print('Ruby' in set2)  # False\n",
    "print('Java' in set2)  # True"
   ]
  },
  {
   "cell_type": "markdown",
   "metadata": {},
   "source": [
    "### 二元运算"
   ]
  },
  {
   "cell_type": "code",
   "execution_count": 4,
   "metadata": {},
   "outputs": [
    {
     "name": "stdout",
     "output_type": "stream",
     "text": [
      "{2, 4, 6}\n",
      "{2, 4, 6}\n",
      "{1, 2, 3, 4, 5, 6, 7, 8, 10}\n",
      "{1, 2, 3, 4, 5, 6, 7, 8, 10}\n",
      "{1, 3, 5, 7}\n",
      "{1, 3, 5, 7}\n",
      "{1, 3, 5, 7, 8, 10}\n",
      "{1, 3, 5, 7, 8, 10}\n"
     ]
    }
   ],
   "source": [
    "set1 = {1, 2, 3, 4, 5, 6, 7}\n",
    "set2 = {2, 4, 6, 8, 10}\n",
    "\n",
    "# 交集\n",
    "print(set1 & set2)                      # {2, 4, 6}\n",
    "print(set1.intersection(set2))          # {2, 4, 6}\n",
    "\n",
    "# 并集\n",
    "print(set1 | set2)                      # {1, 2, 3, 4, 5, 6, 7, 8, 10}\n",
    "print(set1.union(set2))                 # {1, 2, 3, 4, 5, 6, 7, 8, 10}\n",
    "\n",
    "# 差集\n",
    "print(set1 - set2)                      # {1, 3, 5, 7}\n",
    "print(set1.difference(set2))            # {1, 3, 5, 7}\n",
    "\n",
    "# 对称差\n",
    "print(set1 ^ set2)                      # {1, 3, 5, 7, 8, 10}\n",
    "print(set1.symmetric_difference(set2))  # {1, 3, 5, 7, 8, 10}"
   ]
  },
  {
   "cell_type": "markdown",
   "metadata": {},
   "source": [
    "通过上面的代码可以看出，对两个集合求交集，`&`运算符和`intersection`方法的作用是完全相同的，使用运算符的方式显然更直观且代码也更简短。需要说明的是，集合的二元运算还可以跟赋值运算一起构成复合赋值运算，例如：`set1 |= set2`相当于`set1 = set1 | set2`，跟`|=`作用相同的方法是`update`；`set1 &= set2`相当于`set1 = set1 & set2`，跟`&=`作用相同的方法是`intersection_update`，代码如下所示。"
   ]
  },
  {
   "cell_type": "code",
   "execution_count": 5,
   "metadata": {},
   "outputs": [
    {
     "name": "stdout",
     "output_type": "stream",
     "text": [
      "{1, 2, 3, 4, 5, 6, 7}\n",
      "{3, 6}\n",
      "{2, 4}\n"
     ]
    }
   ],
   "source": [
    "set1 = {1, 3, 5, 7}\n",
    "set2 = {2, 4, 6}\n",
    "set1 |= set2\n",
    "# set1.update(set2)\n",
    "print(set1)  # {1, 2, 3, 4, 5, 6, 7}\n",
    "set3 = {3, 6, 9}\n",
    "set1 &= set3\n",
    "# set1.intersection_update(set3)\n",
    "print(set1)  # {3, 6}\n",
    "set2 -= set1\n",
    "# set2.difference_update(set1)\n",
    "print(set2)  # {2, 4}"
   ]
  },
  {
   "cell_type": "markdown",
   "metadata": {},
   "source": [
    "### 比较运算\n",
    "\n",
    "两个集合可以用`==`和`!=`进行相等性判断，如果两个集合中的元素完全相同，那么`==`比较的结果就是`True`，否则就是`False`。如果集合`A`的任意一个元素都是集合`B`的元素，那么集合`A`称为集合`B`的子集，即对于$\\small{\\forall{a} \\in {A}}$，均有$\\small{{a} \\in {B}}$，则$\\small{{A} \\subseteq {B}}$，`A`是`B`的子集，反过来也可以称`B`是`A`的超集。如果`A`是`B`的子集且`A`不等于`B`，那么`A`就是`B`的真子集。Python 为集合类型提供了判断子集和超集的运算符，其实就是我们非常熟悉的`<`、`<=`、`>`、`>=`这些运算符。当然，我们也可以通过集合类型的方法`issubset`和`issuperset`来判断集合之间的关系，代码如下所示。"
   ]
  },
  {
   "cell_type": "code",
   "execution_count": 6,
   "metadata": {},
   "outputs": [
    {
     "name": "stdout",
     "output_type": "stream",
     "text": [
      "True\n",
      "True\n",
      "False\n",
      "True\n",
      "True\n",
      "True\n",
      "True\n",
      "True\n"
     ]
    }
   ],
   "source": [
    "set1 = {1, 3, 5}\n",
    "set2 = {1, 2, 3, 4, 5}\n",
    "set3 = {5, 4, 3, 2, 1}\n",
    "\n",
    "print(set1 < set2)   # True\n",
    "print(set1 <= set2)  # True\n",
    "print(set2 < set3)   # False\n",
    "print(set2 <= set3)  # True\n",
    "print(set2 > set1)   # True\n",
    "print(set2 == set3)  # True\n",
    "\n",
    "print(set1.issubset(set2))    # True\n",
    "print(set2.issuperset(set1))  # True"
   ]
  },
  {
   "cell_type": "markdown",
   "metadata": {},
   "source": [
    "## 集合的方法\n",
    "\n",
    "刚才我们说过，Python 中的集合是可变类型，我们可以通过集合类型的方法向集合添加元素或从集合中删除元素。"
   ]
  },
  {
   "cell_type": "code",
   "execution_count": 7,
   "metadata": {},
   "outputs": [
    {
     "name": "stdout",
     "output_type": "stream",
     "text": [
      "{1, 100, 1000, 10, 10000}\n",
      "{1, 1000, 10000}\n",
      "set()\n"
     ]
    }
   ],
   "source": [
    "set1 = {1, 10, 100}\n",
    "\n",
    "# 添加元素\n",
    "set1.add(1000)\n",
    "set1.add(10000)\n",
    "print(set1)  # {1, 100, 1000, 10, 10000}\n",
    "\n",
    "# 删除元素\n",
    "set1.discard(10)\n",
    "if 100 in set1:\n",
    "    set1.remove(100)\n",
    "print(set1)  # {1, 1000, 10000}\n",
    "\n",
    "# 清空元素\n",
    "set1.clear()\n",
    "print(set1)  # set()\n"
   ]
  },
  {
   "cell_type": "markdown",
   "metadata": {},
   "source": [
    "**说明**：删除集合元素的`remove`方法在元素不存在时会引发`KeyError`错误，所以上面的代码中我们先通过成员运算判断元素是否在集合中。集合类型还有一个`pop`方法可以从集合中随机删除一个元素，该方法在删除元素的同时会获得被删除的元素，而`remove`和`discard`方法仅仅是删除元素，不会获得被删除的元素。"
   ]
  },
  {
   "cell_type": "markdown",
   "metadata": {},
   "source": [
    "集合类型还有一个名为`isdisjoint`的方法可以判断两个集合有没有相同的元素，如果没有相同元素，该方法返回`True`，否则该方法返回`False`，代码如下所示。"
   ]
  },
  {
   "cell_type": "code",
   "execution_count": 8,
   "metadata": {},
   "outputs": [
    {
     "name": "stdout",
     "output_type": "stream",
     "text": [
      "False\n",
      "True\n"
     ]
    }
   ],
   "source": [
    "set1 = {'Java', 'Python', 'C++', 'Kotlin'}\n",
    "set2 = {'Kotlin', 'Swift', 'Java', 'Dart'}\n",
    "set3 = {'HTML', 'CSS', 'JavaScript'}\n",
    "print(set1.isdisjoint(set2))  # False\n",
    "print(set1.isdisjoint(set3))  # True"
   ]
  },
  {
   "cell_type": "markdown",
   "metadata": {},
   "source": [
    "## 不可变集合\n",
    "\n",
    "Python 中还有一种不可变类型的集合，名字叫`frozenset`。`set`跟`frozenset`的区别就如同`list`跟`tuple`的区别，`frozenset`由于是不可变类型，能够计算出哈希码，因此它可以作为`set`中的元素。除了不能添加和删除元素，`frozenset`在其他方面跟`set`是一样的，下面的代码简单的展示了`frozenset`的用法。"
   ]
  },
  {
   "cell_type": "code",
   "execution_count": 9,
   "metadata": {},
   "outputs": [
    {
     "name": "stdout",
     "output_type": "stream",
     "text": [
      "frozenset({1, 3, 5, 7})\n",
      "frozenset({1, 2, 3, 4, 5})\n",
      "frozenset({1, 3, 5})\n",
      "frozenset({1, 2, 3, 4, 5, 7})\n",
      "frozenset({7})\n",
      "False\n"
     ]
    }
   ],
   "source": [
    "fset1 = frozenset({1, 3, 5, 7})\n",
    "fset2 = frozenset(range(1, 6))\n",
    "print(fset1)          # frozenset({1, 3, 5, 7})\n",
    "print(fset2)          # frozenset({1, 2, 3, 4, 5})\n",
    "print(fset1 & fset2)  # frozenset({1, 3, 5})\n",
    "print(fset1 | fset2)  # frozenset({1, 2, 3, 4, 5, 7})\n",
    "print(fset1 - fset2)  # frozenset({7})\n",
    "print(fset1 < fset2)  # False"
   ]
  },
  {
   "cell_type": "markdown",
   "metadata": {},
   "source": []
  }
 ],
 "metadata": {
  "kernelspec": {
   "display_name": "base",
   "language": "python",
   "name": "python3"
  },
  "language_info": {
   "codemirror_mode": {
    "name": "ipython",
    "version": 3
   },
   "file_extension": ".py",
   "mimetype": "text/x-python",
   "name": "python",
   "nbconvert_exporter": "python",
   "pygments_lexer": "ipython3",
   "version": "3.11.5"
  }
 },
 "nbformat": 4,
 "nbformat_minor": 2
}
