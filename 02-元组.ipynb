{
 "cells": [
  {
   "cell_type": "markdown",
   "metadata": {},
   "source": [
    "# 元组\n"
   ]
  },
  {
   "cell_type": "markdown",
   "metadata": {},
   "source": [
    "## 定义与运算"
   ]
  },
  {
   "cell_type": "markdown",
   "metadata": {},
   "source": [
    "元组和列表的不同之处在于，**元组是不可变类型**，这就意味着元组类型的变量一旦定义，其中的元素不能再添加或删除，而且元素的值也不能修改。如果试图修改元组中的元素，将引发`TypeError`错误，导致程序崩溃。定义元组通常使用形如`(x, y, z)`的字面量语法，元组类型支持的运算符跟列表是一样的，我们可以看看下面的代码。"
   ]
  },
  {
   "cell_type": "code",
   "execution_count": 1,
   "metadata": {},
   "outputs": [
    {
     "name": "stdout",
     "output_type": "stream",
     "text": [
      "<class 'tuple'>\n",
      "<class 'tuple'>\n",
      "3\n",
      "4\n",
      "35\n",
      "98\n",
      "四川成都\n",
      "('骆昊', 43)\n",
      "('骆昊', '四川成都')\n",
      "35\n",
      "12\n",
      "98\n",
      "True\n",
      "False\n",
      "True\n",
      "(35, 12, 98, '骆昊', 43, True, '四川成都')\n",
      "False\n",
      "False\n",
      "False\n"
     ]
    }
   ],
   "source": [
    "# 定义一个三元组\n",
    "t1 = (35, 12, 98)\n",
    "# 定义一个四元组\n",
    "t2 = ('骆昊', 43, True, '四川成都')\n",
    "\n",
    "# 查看变量的类型\n",
    "print(type(t1))  # <class 'tuple'>\n",
    "print(type(t2))  # <class 'tuple'>\n",
    "\n",
    "# 查看元组中元素的数量\n",
    "print(len(t1))  # 3\n",
    "print(len(t2))  # 4\n",
    "\n",
    "# 索引运算\n",
    "print(t1[0])    # 35\n",
    "print(t1[2])    # 98\n",
    "print(t2[-1])   # 四川成都\n",
    "\n",
    "# 切片运算\n",
    "print(t2[:2])   # ('骆昊', 43)\n",
    "print(t2[::3])  # ('骆昊', '四川成都')\n",
    "\n",
    "# 循环遍历元组中的元素\n",
    "for elem in t1:\n",
    "    print(elem)\n",
    "\n",
    "# 成员运算\n",
    "print(12 in t1)         # True\n",
    "print(99 in t1)         # False\n",
    "print('Hao' not in t2)  # False\n",
    "\n",
    "# 拼接运算\n",
    "t3 = t1 + t2\n",
    "print(t3)  # (35, 12, 98, '骆昊', 43, True, '四川成都')\n",
    "\n",
    "# 比较运算\n",
    "print(t1 == t3)            # False\n",
    "print(t1 >= t3)            # False\n",
    "print(t1 <= (35, 11, 99))  # False"
   ]
  },
  {
   "cell_type": "markdown",
   "metadata": {},
   "source": [
    "一个元组中如果有两个元素，我们就称之为二元组；一个元组中如果五个元素，我们就称之为五元组。需要提醒大家注意的是，`()`表示空元组，但是如果元组中只有一个元素，需要加上一个逗号，否则`()`就不是代表元组的字面量语法，而是改变运算优先级的圆括号，所以`('hello', )`和`(100, )`才是一元组，而`('hello')`和`(100)`只是字符串和整数。我们可以通过下面的代码来加以验证。"
   ]
  },
  {
   "cell_type": "code",
   "execution_count": 2,
   "metadata": {},
   "outputs": [
    {
     "name": "stdout",
     "output_type": "stream",
     "text": [
      "<class 'tuple'>\n",
      "<class 'str'>\n",
      "<class 'int'>\n",
      "<class 'tuple'>\n",
      "<class 'tuple'>\n"
     ]
    }
   ],
   "source": [
    "a = ()\n",
    "print(type(a))  # <class 'tuple'>\n",
    "b = ('hello')\n",
    "print(type(b))  # <class 'str'>\n",
    "c = (100)\n",
    "print(type(c))  # <class 'int'>\n",
    "d = ('hello', )\n",
    "print(type(d))  # <class 'tuple'>\n",
    "e = (100, )\n",
    "print(type(e))  # <class 'tuple'>"
   ]
  },
  {
   "cell_type": "markdown",
   "metadata": {},
   "source": [
    "## 打包和解包"
   ]
  },
  {
   "cell_type": "markdown",
   "metadata": {},
   "source": [
    "当我们把多个用逗号分隔的值赋给一个变量时，多个值会打包成一个元组类型；当我们把一个元组赋值给多个变量时，元组会解包成多个值然后分别赋给对应的变量，如下面的代码所示"
   ]
  },
  {
   "cell_type": "code",
   "execution_count": 3,
   "metadata": {},
   "outputs": [
    {
     "name": "stdout",
     "output_type": "stream",
     "text": [
      "<class 'tuple'>\n",
      "(1, 10, 100)\n",
      "1 10 100\n"
     ]
    }
   ],
   "source": [
    "# 打包操作\n",
    "a = 1, 10, 100\n",
    "print(type(a))  # <class 'tuple'>\n",
    "print(a)        # (1, 10, 100)\n",
    "# 解包操作\n",
    "i, j, k = a\n",
    "print(i, j, k)  # 1 10 100"
   ]
  },
  {
   "cell_type": "markdown",
   "metadata": {},
   "source": [
    "在解包时，如果解包出来的元素个数和变量个数不对应，会引发`ValueError`异常，错误信息为：`too many values to unpack`（解包的值太多）或`not enough values to unpack`（解包的值不足）。"
   ]
  },
  {
   "cell_type": "code",
   "execution_count": 4,
   "metadata": {},
   "outputs": [
    {
     "ename": "ValueError",
     "evalue": "too many values to unpack (expected 3)",
     "output_type": "error",
     "traceback": [
      "\u001b[0;31m---------------------------------------------------------------------------\u001b[0m",
      "\u001b[0;31mValueError\u001b[0m                                Traceback (most recent call last)",
      "\u001b[1;32m/Users/yijunquan/Desktop/工作/python-advanced/02-元组.ipynb 单元格 11\u001b[0m line \u001b[0;36m2\n\u001b[1;32m      <a href='vscode-notebook-cell:/Users/yijunquan/Desktop/%E5%B7%A5%E4%BD%9C/python-advanced/02-%E5%85%83%E7%BB%84.ipynb#X13sZmlsZQ%3D%3D?line=0'>1</a>\u001b[0m a \u001b[39m=\u001b[39m \u001b[39m1\u001b[39m, \u001b[39m10\u001b[39m, \u001b[39m100\u001b[39m, \u001b[39m1000\u001b[39m\n\u001b[0;32m----> <a href='vscode-notebook-cell:/Users/yijunquan/Desktop/%E5%B7%A5%E4%BD%9C/python-advanced/02-%E5%85%83%E7%BB%84.ipynb#X13sZmlsZQ%3D%3D?line=1'>2</a>\u001b[0m i, j, k \u001b[39m=\u001b[39m a             \u001b[39m# ValueError: too many values to unpack (expected 3)\u001b[39;00m\n\u001b[1;32m      <a href='vscode-notebook-cell:/Users/yijunquan/Desktop/%E5%B7%A5%E4%BD%9C/python-advanced/02-%E5%85%83%E7%BB%84.ipynb#X13sZmlsZQ%3D%3D?line=2'>3</a>\u001b[0m i, j, k, l, m, n \u001b[39m=\u001b[39m a\n",
      "\u001b[0;31mValueError\u001b[0m: too many values to unpack (expected 3)"
     ]
    }
   ],
   "source": [
    "a = 1, 10, 100, 1000\n",
    "i, j, k = a             # ValueError: too many values to unpack (expected 3)\n",
    "i, j, k, l, m, n = a    # ValueError: not enough values to unpack (expected 6, got 4)"
   ]
  },
  {
   "cell_type": "markdown",
   "metadata": {},
   "source": [
    "有一种解决变量个数少于元素的个数方法，就是使用星号表达式。通过星号表达式，我们可以让一个变量接收多个值，代码如下所示。需要注意两点：首先，用星号表达式修饰的变量会变成一个列表，列表中有0个或多个元素；其次，在解包语法中，星号表达式只能出现一次。"
   ]
  },
  {
   "cell_type": "code",
   "execution_count": 5,
   "metadata": {},
   "outputs": [
    {
     "name": "stdout",
     "output_type": "stream",
     "text": [
      "1 10 [100, 1000]\n",
      "1 [10, 100] 1000\n",
      "[1, 10] 100 1000\n",
      "[1, 10, 100] 1000\n",
      "1 [10, 100, 1000]\n",
      "1 10 100 [1000]\n",
      "1 10 100 1000 []\n"
     ]
    }
   ],
   "source": [
    "a = 1, 10, 100, 1000\n",
    "i, j, *k = a\n",
    "print(i, j, k)        # 1 10 [100, 1000]\n",
    "i, *j, k = a\n",
    "print(i, j, k)        # 1 [10, 100] 1000\n",
    "*i, j, k = a\n",
    "print(i, j, k)        # [1, 10] 100 1000\n",
    "*i, j = a\n",
    "print(i, j)           # [1, 10, 100] 1000\n",
    "i, *j = a\n",
    "print(i, j)           # 1 [10, 100, 1000]\n",
    "i, j, k, *l = a\n",
    "print(i, j, k, l)     # 1 10 100 [1000]\n",
    "i, j, k, l, *m = a\n",
    "print(i, j, k, l, m)  # 1 10 100 1000 []"
   ]
  },
  {
   "cell_type": "markdown",
   "metadata": {},
   "source": [
    "需要说明一点，解包语法对所有的序列都成立，这就意味着我们之前讲的列表、`range`函数构造的范围序列甚至字符串都可以使用解包语法。大家可以尝试运行下面的代码，看看会出现怎样的结果。"
   ]
  },
  {
   "cell_type": "code",
   "execution_count": 6,
   "metadata": {},
   "outputs": [
    {
     "name": "stdout",
     "output_type": "stream",
     "text": [
      "1 2 [3, 4, 5, 6, 7, 8, 9]\n",
      "1 10 100\n",
      "h ['e', 'l', 'l'] o\n"
     ]
    }
   ],
   "source": [
    "a, b, *c = range(1, 10)\n",
    "print(a, b, c)\n",
    "a, b, c = [1, 10, 100]\n",
    "print(a, b, c)\n",
    "a, *b, c = 'hello'\n",
    "print(a, b, c)"
   ]
  },
  {
   "cell_type": "markdown",
   "metadata": {},
   "source": [
    "## 交换变量的值"
   ]
  },
  {
   "cell_type": "markdown",
   "metadata": {},
   "source": [
    "交换变量的值是写代码时经常用到的一个操作，但是在很多编程语言中，交换两个变量的值都需要借助一个中间变量才能做到，如果不用中间变量就需要使用比较晦涩的位运算来实现。在 Python 中，交换两个变量`a`和`b`的值只需要使用如下所示的代码。"
   ]
  },
  {
   "cell_type": "code",
   "execution_count": 7,
   "metadata": {},
   "outputs": [
    {
     "name": "stdout",
     "output_type": "stream",
     "text": [
      "5\n",
      "10\n"
     ]
    }
   ],
   "source": [
    "a = 10\n",
    "b = 5\n",
    "a,b = b,a\n",
    "print(a)\n",
    "print(b)"
   ]
  },
  {
   "cell_type": "markdown",
   "metadata": {},
   "source": [
    "同理，如果要将三个变量`a`、`b`、`c`的值互换，即`b`的值赋给`a`，`c`的值赋给`b`，`a`的值赋给`c`，也可以如法炮制。`a, b, c = b, c, a`"
   ]
  },
  {
   "cell_type": "markdown",
   "metadata": {},
   "source": [
    "需要说明的是，上面的操作并没有用到打包和解包语法，Python 的字节码指令中有`ROT_TWO`和`ROT_THREE`这样的指令可以直接实现这个操作，效率是非常高的。但是如果有多于三个变量的值要依次互换，这个时候是没有直接可用的字节码指令的，需要通过打包解包的方式来完成变量之间值的交换。"
   ]
  },
  {
   "cell_type": "markdown",
   "metadata": {},
   "source": [
    "## 元组和列表的比较"
   ]
  },
  {
   "cell_type": "markdown",
   "metadata": {},
   "source": [
    "1. 元组是不可变类型，**不可变类型更适合多线程环境**，因为它降低了并发访问变量的同步化开销。关于这一点，我们会在后面讲解并发编程的时候跟大家一起探讨。\n",
    "\n",
    "2. 元组是不可变类型，通常**不可变类型在创建时间上优于对应的可变类型**。我们可以使用`timeit`模块的`timeit`函数来看看创建保存相同元素的元组和列表各自花费的时间，`timeit`函数的`number`参数表示代码执行的次数。下面的代码中，我们分别创建了保存`1`到`9`的整数的列表和元组，每个操作执行`10000000`次，统计运行时间。"
   ]
  },
  {
   "cell_type": "code",
   "execution_count": 8,
   "metadata": {},
   "outputs": [
    {
     "name": "stdout",
     "output_type": "stream",
     "text": [
      "0.253 秒\n",
      "0.041 秒\n"
     ]
    }
   ],
   "source": [
    "import timeit\n",
    "\n",
    "print('%.3f 秒' % timeit.timeit('[1, 2, 3, 4, 5, 6, 7, 8, 9]', number=10000000))\n",
    "print('%.3f 秒' % timeit.timeit('(1, 2, 3, 4, 5, 6, 7, 8, 9)', number=10000000))"
   ]
  },
  {
   "cell_type": "markdown",
   "metadata": {},
   "source": [
    "Python 中的元组和列表类型是可以相互转换的，我们可以通过下面的代码来完成该操作"
   ]
  },
  {
   "cell_type": "code",
   "execution_count": 9,
   "metadata": {},
   "outputs": [
    {
     "name": "stdout",
     "output_type": "stream",
     "text": [
      "['骆昊', 43, True, '四川成都']\n",
      "('apple', 'banana', 'orange')\n"
     ]
    }
   ],
   "source": [
    "infos = ('骆昊', 43, True, '四川成都')\n",
    "# 将元组转换成列表\n",
    "print(list(infos))  # ['骆昊', 43, True, '四川成都']\n",
    "\n",
    "frts = ['apple', 'banana', 'orange']\n",
    "# 将列表转换成元组\n",
    "print(tuple(frts))  # ('apple', 'banana', 'orange')"
   ]
  },
  {
   "cell_type": "markdown",
   "metadata": {},
   "source": [
    "## 总结"
   ]
  },
  {
   "cell_type": "markdown",
   "metadata": {},
   "source": [
    "**列表和元组都是容器型的数据类型**，即一个变量可以保存多个数据，而且它们都是按一定顺序组织元素的有序容器。**列表是可变数据类型**，**元组是不可变数据类型**，所以列表可以添加元素、删除元素、清空元素、排序反转，但这些操作对元组来说是不成立的。列表和元组都可以支持**拼接运算**、**成员运算**、**索引运算**、**切片运算**等操作，后面我们要讲到的字符串类型也支持这些运算，因为字符串就是字符按一定顺序构成的序列，在这一点上三者并没有什么区别。我们**推荐大家使用列表的生成式语法来创建列表**，它不仅好用而且效率很高，是 Python 语言中非常有特色的语法。"
   ]
  }
 ],
 "metadata": {
  "kernelspec": {
   "display_name": "dual-rca",
   "language": "python",
   "name": "python3"
  },
  "language_info": {
   "codemirror_mode": {
    "name": "ipython",
    "version": 3
   },
   "file_extension": ".py",
   "mimetype": "text/x-python",
   "name": "python",
   "nbconvert_exporter": "python",
   "pygments_lexer": "ipython3",
   "version": "3.10.13"
  }
 },
 "nbformat": 4,
 "nbformat_minor": 2
}
